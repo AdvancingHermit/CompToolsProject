{
 "cells": [
  {
   "cell_type": "code",
   "id": "initial_id",
   "metadata": {
    "collapsed": true,
    "ExecuteTime": {
     "end_time": "2025-10-22T13:18:17.673923Z",
     "start_time": "2025-10-22T13:18:17.663764Z"
    }
   },
   "source": [
    "import pandas as pd\n",
    "import numpy as np\n",
    "import nltk\n",
    "from nltk.corpus import stopwords\n",
    "from nltk.tokenize import word_tokenize\n",
    "import re\n",
    "from sklearn.feature_extraction.text import CountVectorizer\n",
    "from itertools import chain\n",
    "from collections import Counter\n",
    "from sklearn.decomposition import PCA\n",
    "import matplotlib.pyplot as plt\n",
    "\n",
    "nltk.download('stopwords')\n",
    "nltk.download('punkt')"
   ],
   "outputs": [
    {
     "name": "stderr",
     "output_type": "stream",
     "text": [
      "[nltk_data] Downloading package stopwords to /Users/Tomas/nltk_data...\n",
      "[nltk_data]   Package stopwords is already up-to-date!\n",
      "[nltk_data] Downloading package punkt to /Users/Tomas/nltk_data...\n",
      "[nltk_data]   Package punkt is already up-to-date!\n"
     ]
    },
    {
     "data": {
      "text/plain": [
       "True"
      ]
     },
     "execution_count": 167,
     "metadata": {},
     "output_type": "execute_result"
    }
   ],
   "execution_count": 167
  },
  {
   "metadata": {
    "ExecuteTime": {
     "end_time": "2025-10-22T11:29:24.109747Z",
     "start_time": "2025-10-22T11:29:23.449811Z"
    }
   },
   "cell_type": "code",
   "source": [
    "df = pd.read_csv('data/wiki_movie_plots_deduped.csv')\n",
    "df = df.drop(columns=['Director', 'Cast', 'Wiki Page'])\n",
    "df.head(3)"
   ],
   "id": "67661d27a13c1a3d",
   "outputs": [
    {
     "data": {
      "text/plain": [
       "   Release Year                          Title Origin/Ethnicity    Genre  \\\n",
       "0          1901         Kansas Saloon Smashers         American  unknown   \n",
       "1          1901  Love by the Light of the Moon         American  unknown   \n",
       "2          1901        The Martyred Presidents         American  unknown   \n",
       "\n",
       "                                                Plot  \n",
       "0  A bartender is working at a saloon, serving dr...  \n",
       "1  The moon, painted with a smiling face hangs ov...  \n",
       "2  The film, just over a minute long, is composed...  "
      ],
      "text/html": [
       "<div>\n",
       "<style scoped>\n",
       "    .dataframe tbody tr th:only-of-type {\n",
       "        vertical-align: middle;\n",
       "    }\n",
       "\n",
       "    .dataframe tbody tr th {\n",
       "        vertical-align: top;\n",
       "    }\n",
       "\n",
       "    .dataframe thead th {\n",
       "        text-align: right;\n",
       "    }\n",
       "</style>\n",
       "<table border=\"1\" class=\"dataframe\">\n",
       "  <thead>\n",
       "    <tr style=\"text-align: right;\">\n",
       "      <th></th>\n",
       "      <th>Release Year</th>\n",
       "      <th>Title</th>\n",
       "      <th>Origin/Ethnicity</th>\n",
       "      <th>Genre</th>\n",
       "      <th>Plot</th>\n",
       "    </tr>\n",
       "  </thead>\n",
       "  <tbody>\n",
       "    <tr>\n",
       "      <th>0</th>\n",
       "      <td>1901</td>\n",
       "      <td>Kansas Saloon Smashers</td>\n",
       "      <td>American</td>\n",
       "      <td>unknown</td>\n",
       "      <td>A bartender is working at a saloon, serving dr...</td>\n",
       "    </tr>\n",
       "    <tr>\n",
       "      <th>1</th>\n",
       "      <td>1901</td>\n",
       "      <td>Love by the Light of the Moon</td>\n",
       "      <td>American</td>\n",
       "      <td>unknown</td>\n",
       "      <td>The moon, painted with a smiling face hangs ov...</td>\n",
       "    </tr>\n",
       "    <tr>\n",
       "      <th>2</th>\n",
       "      <td>1901</td>\n",
       "      <td>The Martyred Presidents</td>\n",
       "      <td>American</td>\n",
       "      <td>unknown</td>\n",
       "      <td>The film, just over a minute long, is composed...</td>\n",
       "    </tr>\n",
       "  </tbody>\n",
       "</table>\n",
       "</div>"
      ]
     },
     "execution_count": 4,
     "metadata": {},
     "output_type": "execute_result"
    }
   ],
   "execution_count": 4
  },
  {
   "metadata": {
    "ExecuteTime": {
     "end_time": "2025-10-22T12:35:51.636551Z",
     "start_time": "2025-10-22T12:35:51.630796Z"
    }
   },
   "cell_type": "code",
   "source": [
    "def preprocess_text(text):\n",
    "    stop_words = set(stopwords.words('english'))\n",
    "    text = re.sub(r\"[.,?!()\\/#*&$^\\-_:;'<>\\[\\]\\\"\\\\]\", \"\", text)\n",
    "    text = re.sub(r\"(?<!\\d)\\d(?!\\d)\", \"\", text)\n",
    "    text = text.lower()\n",
    "    tokens = text.split()\n",
    "    filtered_tokens = [word for word in tokens if word not in stop_words]\n",
    "    return filtered_tokens"
   ],
   "id": "37c2da0a1507abdc",
   "outputs": [],
   "execution_count": 118
  },
  {
   "metadata": {
    "ExecuteTime": {
     "end_time": "2025-10-22T13:14:45.238673Z",
     "start_time": "2025-10-22T13:14:45.221038Z"
    }
   },
   "cell_type": "code",
   "source": [
    "n = 100\n",
    "df_sample = df.head(n)\n",
    "\n",
    "\n",
    "all_tokens = list(set(chain.from_iterable(df_sample['Plot'].apply(preprocess_text))))\n",
    "all_tokens.sort()"
   ],
   "id": "c6435a9743f8285e",
   "outputs": [],
   "execution_count": 160
  },
  {
   "metadata": {
    "ExecuteTime": {
     "end_time": "2025-10-22T13:14:46.624173Z",
     "start_time": "2025-10-22T13:14:46.614996Z"
    }
   },
   "cell_type": "code",
   "source": [
    "dict = {word:0 for word in  all_tokens}\n",
    "\n",
    "sample_entry = preprocess_text(df_sample.iloc[0]['Plot'])\n",
    "sample_dct = Counter(sample_entry)\n",
    "for word, count in sample_dct.items():\n",
    "    dict[word] = count"
   ],
   "id": "f842345279b6478e",
   "outputs": [],
   "execution_count": 161
  },
  {
   "metadata": {
    "ExecuteTime": {
     "end_time": "2025-10-22T13:14:47.514142Z",
     "start_time": "2025-10-22T13:14:47.455434Z"
    }
   },
   "cell_type": "code",
   "source": [
    "X = np.zeros((n, len(all_tokens)))\n",
    "\n",
    "\n",
    "for i, text in enumerate(df_sample['Plot']):\n",
    "    word_dict = {word: 0 for word in all_tokens}\n",
    "    sample_entry = preprocess_text(text)\n",
    "    sample_dct = Counter(sample_entry)\n",
    "    for word, count in sample_dct.items():\n",
    "        word_dict[word] += count\n",
    "    X[i] = list(word_dict.values())"
   ],
   "id": "fb8b1a0281f418fb",
   "outputs": [],
   "execution_count": 162
  },
  {
   "metadata": {
    "ExecuteTime": {
     "end_time": "2025-10-22T13:14:48.786247Z",
     "start_time": "2025-10-22T13:14:48.783128Z"
    }
   },
   "cell_type": "code",
   "source": "X",
   "id": "d88999feb19f1409",
   "outputs": [
    {
     "data": {
      "text/plain": [
       "array([[0., 0., 0., ..., 0., 0., 0.],\n",
       "       [0., 0., 0., ..., 0., 0., 0.],\n",
       "       [0., 0., 0., ..., 0., 0., 0.],\n",
       "       ...,\n",
       "       [0., 0., 0., ..., 0., 0., 0.],\n",
       "       [0., 0., 0., ..., 0., 0., 0.],\n",
       "       [0., 0., 0., ..., 0., 0., 0.]])"
      ]
     },
     "execution_count": 163,
     "metadata": {},
     "output_type": "execute_result"
    }
   ],
   "execution_count": 163
  },
  {
   "metadata": {
    "ExecuteTime": {
     "end_time": "2025-10-22T13:17:43.832283Z",
     "start_time": "2025-10-22T13:17:43.696474Z"
    }
   },
   "cell_type": "code",
   "source": [
    "pca = PCA()\n",
    "pca.fit(X)\n",
    "\n",
    "\n"
   ],
   "id": "9187b1b40ab26575",
   "outputs": [
    {
     "data": {
      "text/plain": [
       "PCA()"
      ],
      "text/html": [
       "<style>#sk-container-id-1 {color: black;background-color: white;}#sk-container-id-1 pre{padding: 0;}#sk-container-id-1 div.sk-toggleable {background-color: white;}#sk-container-id-1 label.sk-toggleable__label {cursor: pointer;display: block;width: 100%;margin-bottom: 0;padding: 0.3em;box-sizing: border-box;text-align: center;}#sk-container-id-1 label.sk-toggleable__label-arrow:before {content: \"▸\";float: left;margin-right: 0.25em;color: #696969;}#sk-container-id-1 label.sk-toggleable__label-arrow:hover:before {color: black;}#sk-container-id-1 div.sk-estimator:hover label.sk-toggleable__label-arrow:before {color: black;}#sk-container-id-1 div.sk-toggleable__content {max-height: 0;max-width: 0;overflow: hidden;text-align: left;background-color: #f0f8ff;}#sk-container-id-1 div.sk-toggleable__content pre {margin: 0.2em;color: black;border-radius: 0.25em;background-color: #f0f8ff;}#sk-container-id-1 input.sk-toggleable__control:checked~div.sk-toggleable__content {max-height: 200px;max-width: 100%;overflow: auto;}#sk-container-id-1 input.sk-toggleable__control:checked~label.sk-toggleable__label-arrow:before {content: \"▾\";}#sk-container-id-1 div.sk-estimator input.sk-toggleable__control:checked~label.sk-toggleable__label {background-color: #d4ebff;}#sk-container-id-1 div.sk-label input.sk-toggleable__control:checked~label.sk-toggleable__label {background-color: #d4ebff;}#sk-container-id-1 input.sk-hidden--visually {border: 0;clip: rect(1px 1px 1px 1px);clip: rect(1px, 1px, 1px, 1px);height: 1px;margin: -1px;overflow: hidden;padding: 0;position: absolute;width: 1px;}#sk-container-id-1 div.sk-estimator {font-family: monospace;background-color: #f0f8ff;border: 1px dotted black;border-radius: 0.25em;box-sizing: border-box;margin-bottom: 0.5em;}#sk-container-id-1 div.sk-estimator:hover {background-color: #d4ebff;}#sk-container-id-1 div.sk-parallel-item::after {content: \"\";width: 100%;border-bottom: 1px solid gray;flex-grow: 1;}#sk-container-id-1 div.sk-label:hover label.sk-toggleable__label {background-color: #d4ebff;}#sk-container-id-1 div.sk-serial::before {content: \"\";position: absolute;border-left: 1px solid gray;box-sizing: border-box;top: 0;bottom: 0;left: 50%;z-index: 0;}#sk-container-id-1 div.sk-serial {display: flex;flex-direction: column;align-items: center;background-color: white;padding-right: 0.2em;padding-left: 0.2em;position: relative;}#sk-container-id-1 div.sk-item {position: relative;z-index: 1;}#sk-container-id-1 div.sk-parallel {display: flex;align-items: stretch;justify-content: center;background-color: white;position: relative;}#sk-container-id-1 div.sk-item::before, #sk-container-id-1 div.sk-parallel-item::before {content: \"\";position: absolute;border-left: 1px solid gray;box-sizing: border-box;top: 0;bottom: 0;left: 50%;z-index: -1;}#sk-container-id-1 div.sk-parallel-item {display: flex;flex-direction: column;z-index: 1;position: relative;background-color: white;}#sk-container-id-1 div.sk-parallel-item:first-child::after {align-self: flex-end;width: 50%;}#sk-container-id-1 div.sk-parallel-item:last-child::after {align-self: flex-start;width: 50%;}#sk-container-id-1 div.sk-parallel-item:only-child::after {width: 0;}#sk-container-id-1 div.sk-dashed-wrapped {border: 1px dashed gray;margin: 0 0.4em 0.5em 0.4em;box-sizing: border-box;padding-bottom: 0.4em;background-color: white;}#sk-container-id-1 div.sk-label label {font-family: monospace;font-weight: bold;display: inline-block;line-height: 1.2em;}#sk-container-id-1 div.sk-label-container {text-align: center;}#sk-container-id-1 div.sk-container {/* jupyter's `normalize.less` sets `[hidden] { display: none; }` but bootstrap.min.css set `[hidden] { display: none !important; }` so we also need the `!important` here to be able to override the default hidden behavior on the sphinx rendered scikit-learn.org. See: https://github.com/scikit-learn/scikit-learn/issues/21755 */display: inline-block !important;position: relative;}#sk-container-id-1 div.sk-text-repr-fallback {display: none;}</style><div id=\"sk-container-id-1\" class=\"sk-top-container\"><div class=\"sk-text-repr-fallback\"><pre>PCA()</pre><b>In a Jupyter environment, please rerun this cell to show the HTML representation or trust the notebook. <br />On GitHub, the HTML representation is unable to render, please try loading this page with nbviewer.org.</b></div><div class=\"sk-container\" hidden><div class=\"sk-item\"><div class=\"sk-estimator sk-toggleable\"><input class=\"sk-toggleable__control sk-hidden--visually\" id=\"sk-estimator-id-1\" type=\"checkbox\" checked><label for=\"sk-estimator-id-1\" class=\"sk-toggleable__label sk-toggleable__label-arrow\">PCA</label><div class=\"sk-toggleable__content\"><pre>PCA()</pre></div></div></div></div></div>"
      ]
     },
     "execution_count": 166,
     "metadata": {},
     "output_type": "execute_result"
    }
   ],
   "execution_count": 166
  },
  {
   "metadata": {
    "ExecuteTime": {
     "end_time": "2025-10-22T13:18:29.557119Z",
     "start_time": "2025-10-22T13:18:29.460816Z"
    }
   },
   "cell_type": "code",
   "source": [
    "threshold = 0.9\n",
    "\n",
    "# Determine how many components are needed to reach the threshold\n",
    "required_components = np.argmax(np.cumsum(pca.explained_variance_ratio_) >= threshold) + 1\n",
    "\n",
    "# Plot the accumulated explained variance ratio\n",
    "fig = plt.figure()\n",
    "plt.plot(range(1, pca.n_components_+1), pca.explained_variance_ratio_)\n",
    "plt.plot(range(1, pca.n_components_+1), np.cumsum(pca.explained_variance_ratio_))\n",
    "plt.plot([1, 1+pca.n_components_], [threshold, threshold], \"k--\", label=f\"{threshold:.0%} threshold\")\n",
    "plt.xlabel(\"Number of components\")\n",
    "plt.ylabel(\"Explained variance ratio\")\n",
    "plt.title(\"PCA: Explained Variance vs. Number of Components\")\n",
    "plt.xticks(range(1, pca.n_components_+1)[::50])\n",
    "plt.legend()\n",
    "plt.show()\n",
    "\n",
    "### END SOLUTION\n",
    "print(f\"Number of components required to reach {threshold:.0%} explained variance: {required_components}\")"
   ],
   "id": "ce01e706e8f7661",
   "outputs": [
    {
     "data": {
      "text/plain": [
       "<Figure size 432x288 with 1 Axes>"
      ],
      "image/png": "[encoded data removed]"
     },
     "metadata": {
      "needs_background": "light"
     },
     "output_type": "display_data",
     "jetTransient": {
      "display_id": null
     }
    },
    {
     "name": "stdout",
     "output_type": "stream",
     "text": [
      "Number of components required to reach 90% explained variance: 53\n"
     ]
    }
   ],
   "execution_count": 168
  },
  {
   "metadata": {
    "ExecuteTime": {
     "end_time": "2025-10-22T13:25:53.815599Z",
     "start_time": "2025-10-22T13:25:53.649964Z"
    }
   },
   "cell_type": "code",
   "source": [
    "\n",
    "# Pick genres to visualize\n",
    "genres = ['comedy', 'drama']\n",
    "\n",
    "# Compute PCA projection if not already done\n",
    "B = pca.transform(X)\n",
    "# (or skip this if B is already computed)\n",
    "\n",
    "plt.figure(figsize=(8, 6))\n",
    "\n",
    "for genre in genres:\n",
    "    mask = (df_sample['Genre'] == genre)\n",
    "    plt.scatter(B[mask, 0], B[mask, 1], marker='.', label=genre)\n",
    "\n",
    "plt.xlabel(\"Principal Component 1\")\n",
    "plt.ylabel(\"Principal Component 2\")\n",
    "plt.title(\"PCA: Projected Data for Selected Genres\")\n",
    "plt.legend(title=\"Genre\")\n",
    "plt.show()"
   ],
   "id": "a5bc168eef936a2",
   "outputs": [
    {
     "data": {
      "text/plain": [
       "<Figure size 576x432 with 1 Axes>"
      ],
      "image/png": "[encoded data removed]"
     },
     "metadata": {
      "needs_background": "light"
     },
     "output_type": "display_data",
     "jetTransient": {
      "display_id": null
     }
    }
   ],
   "execution_count": 175
  },
  {
   "metadata": {
    "ExecuteTime": {
     "end_time": "2025-10-22T13:22:13.142871Z",
     "start_time": "2025-10-22T13:22:13.138350Z"
    }
   },
   "cell_type": "code",
   "source": "df_sample['Genre'].value_counts()",
   "id": "93e0f9b24f830473",
   "outputs": [
    {
     "data": {
      "text/plain": [
       "comedy                        28\n",
       "unknown                       27\n",
       "drama                         23\n",
       "western                        4\n",
       "adventure                      2\n",
       "horror                         2\n",
       "drama, horror                  1\n",
       "fantasy                        1\n",
       "documentary drama              1\n",
       "biographical drama             1\n",
       "fantasy drama                  1\n",
       "historical drama               1\n",
       "silent sports                  1\n",
       "crime                          1\n",
       "short fantasy                  1\n",
       "biographical                   1\n",
       "short film                     1\n",
       "short action/crime western     1\n",
       "short                          1\n",
       "adventure serial               1\n",
       "Name: Genre, dtype: int64"
      ]
     },
     "execution_count": 172,
     "metadata": {},
     "output_type": "execute_result"
    }
   ],
   "execution_count": 172
  },
  {
   "metadata": {
    "ExecuteTime": {
     "end_time": "2025-10-22T13:22:27.590424Z",
     "start_time": "2025-10-22T13:22:27.585170Z"
    }
   },
   "cell_type": "code",
   "source": "len(df_sample)",
   "id": "577858560b7d67e7",
   "outputs": [
    {
     "data": {
      "text/plain": [
       "100"
      ]
     },
     "execution_count": 173,
     "metadata": {},
     "output_type": "execute_result"
    }
   ],
   "execution_count": 173
  },
  {
   "metadata": {},
   "cell_type": "code",
   "outputs": [],
   "execution_count": null,
   "source": "",
   "id": "6450db313691d0cf"
  }
 ],
 "metadata": {
  "kernelspec": {
   "display_name": "Python 3",
   "language": "python",
   "name": "python3"
  },
  "language_info": {
   "codemirror_mode": {
    "name": "ipython",
    "version": 2
   },
   "file_extension": ".py",
   "mimetype": "text/x-python",
   "name": "python",
   "nbconvert_exporter": "python",
   "pygments_lexer": "ipython2",
   "version": "2.7.6"
  }
 },
 "nbformat": 4,
 "nbformat_minor": 5
}
